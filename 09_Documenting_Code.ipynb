{
  "cells": [
    {
      "cell_type": "markdown",
      "metadata": {
        "id": "view-in-github",
        "colab_type": "text"
      },
      "source": [
        "<a href=\"https://colab.research.google.com/github/xMCTH/DSFMCTH/blob/main/09_Documenting_Code.ipynb\" target=\"_parent\"><img src=\"https://colab.research.google.com/assets/colab-badge.svg\" alt=\"Open In Colab\"/></a>"
      ]
    },
    {
      "cell_type": "markdown",
      "metadata": {
        "id": "uGse1P6OpRaw"
      },
      "source": [
        "# Documenting Code"
      ]
    },
    {
      "cell_type": "markdown",
      "metadata": {
        "id": "BCRWVxz7pRax"
      },
      "source": [
        "Comments on and documentation of code is crucial for efficiency and reproduction by your future self and others. However, it is boring to do. Luckily there are best practises and tools to help us.\n",
        "\n",
        "Levels of documentation:\n",
        "\n",
        "- inline with the code (say what and why, not how)\n",
        "- Readme files (markdown language)\n",
        "- Wikis\n",
        "- Webpages (automatic generation)\n",
        "- Written documents\n",
        "- Tutorials\n",
        "\n",
        "Minimum is inline and Readme files. Documentation should be together with the code, i.e. in the same repository. This way the version of the documentation follows the version of the code.\n",
        "\n",
        "Exercise\n",
        "\n",
        "- Create a Readme file in your GitHub repository.\n",
        "\n"
      ]
    },
    {
      "cell_type": "code",
      "source": [
        "#See Readme"
      ],
      "metadata": {
        "id": "i-APxhf0VxvK"
      },
      "execution_count": 3,
      "outputs": []
    }
  ],
  "metadata": {
    "anaconda-cloud": {},
    "kernelspec": {
      "display_name": "Python 3",
      "language": "python",
      "name": "python3"
    },
    "language_info": {
      "codemirror_mode": {
        "name": "ipython",
        "version": 3
      },
      "file_extension": ".py",
      "mimetype": "text/x-python",
      "name": "python",
      "nbconvert_exporter": "python",
      "pygments_lexer": "ipython3",
      "version": "3.5.1"
    },
    "colab": {
      "name": "09-Documenting-Code.ipynb",
      "provenance": [],
      "include_colab_link": true
    }
  },
  "nbformat": 4,
  "nbformat_minor": 0
}